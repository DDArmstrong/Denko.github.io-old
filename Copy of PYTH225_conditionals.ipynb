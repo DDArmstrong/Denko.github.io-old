{
  "nbformat": 4,
  "nbformat_minor": 0,
  "metadata": {
    "colab": {
      "name": "PYTH225: conditionals.ipynb",
      "provenance": [],
      "include_colab_link": true
    },
    "kernelspec": {
      "name": "python3",
      "display_name": "Python 3"
    }
  },
  "cells": [
    {
      "cell_type": "markdown",
      "metadata": {
        "id": "view-in-github",
        "colab_type": "text"
      },
      "source": [
        "<a href=\"https://colab.research.google.com/github/Denko/Denko.github.io/blob/master/Copy%20of%20PYTH225_conditionals.ipynb\" target=\"_parent\"><img src=\"https://colab.research.google.com/assets/colab-badge.svg\" alt=\"Open In Colab\"/></a>"
      ]
    },
    {
      "cell_type": "markdown",
      "metadata": {
        "id": "0z1HckrM2euJ",
        "colab_type": "text"
      },
      "source": [
        "[![Open In Colab](https://colab.research.google.com/assets/colab-badge.svg)](https://colab.research.google.com/github/mottaquikarim/pycontent/blob/master/.out/topics/conditionals.ipynb)"
      ]
    },
    {
      "cell_type": "markdown",
      "metadata": {
        "id": "eYrqKTUr2euL",
        "colab_type": "text"
      },
      "source": [
        "# Conditionals\n",
        "\n",
        "In order for code to be useful, it is imperative to have the ability to make decisions. In most languages, we use the **conditional** statement to facilitate decision making. \n",
        "\n",
        "Before we dig deeper into conditionals, let us first examine the `Boolean` datatype.\n",
        "\n",
        "## Booleans & Their Operators\n",
        "\n",
        "In short, a boolean represents a \"yes\" or \"no\" value. In Python, booleans are written as:\n"
      ]
    },
    {
      "cell_type": "code",
      "metadata": {
        "id": "MCBfDNvR3c9Q",
        "colab_type": "code",
        "outputId": "891a993d-9814-406f-84a7-b18296c3021f",
        "colab": {
          "base_uri": "https://localhost:8080/",
          "height": 34
        }
      },
      "source": [
        "from random import randint\n",
        "\n",
        "print(randint(1, 50000))"
      ],
      "execution_count": 0,
      "outputs": [
        {
          "output_type": "stream",
          "text": [
            "4625\n"
          ],
          "name": "stdout"
        }
      ]
    },
    {
      "cell_type": "code",
      "metadata": {
        "id": "fp3GEkbw2euM",
        "colab_type": "code",
        "colab": {}
      },
      "source": [
        "True # this is a boolean, for \"yes\"\n",
        "False # this is a boolean, for \"no\""
      ],
      "execution_count": 0,
      "outputs": []
    },
    {
      "cell_type": "markdown",
      "metadata": {
        "id": "UOSo25Ny2euQ",
        "colab_type": "text"
      },
      "source": [
        "\n",
        "Because booleans are datatypes, certain operators will *evaluate* to booleans:\n"
      ]
    },
    {
      "cell_type": "code",
      "metadata": {
        "id": "I8iAXKi22euR",
        "colab_type": "code",
        "colab": {}
      },
      "source": [
        "age = 13\n",
        "is_eligible_to_buy_lotto = age > 13\n",
        "\n",
        "# ^^ this will evaluate to False and then \n",
        "# that value, False, will be stored in variable\n",
        "# is_eligible_to_buy_lotto"
      ],
      "execution_count": 0,
      "outputs": []
    },
    {
      "cell_type": "markdown",
      "metadata": {
        "id": "Yy_cVsLe2euU",
        "colab_type": "text"
      },
      "source": [
        "\n",
        "The operator above, `>` is called a **boolean** operator. Notice how we stored the evaluation of the `>` expression into a variable. Remember, booleans are just datatypes, therefore they work the same way we would expect numbers and strings to work - except that the operators look / do different things (but in principle they are one and the same!)\n",
        "\n",
        "Let's now explore the *boolean operators* available in python.\n",
        "\n",
        "## Boolean Comparison Operators\n",
        "\n",
        "**Comparison operators** make a statement about the relative value of two items and return a boolean based on whether that statement is True or False. These operators include:\n",
        "\n",
        "* Less than: <\n",
        "* Greater than: >\n",
        "* Less than or equal to: <= \n",
        "* Greater than or equal to: >=\n",
        "* Equal to: == or `is`\n",
        "* Not Equal to: != `is not`\n",
        "\n",
        "**Special note on \"equality operators\":** \n",
        "\n",
        "Because we use the `=` symbol for identity (i.e. to set a variable), it is not available for comparison operations. Instead, we must use the `==` and `!=` symbols.\n",
        "\n",
        "Now, let's walk through this contextual example where we'll compare a driver's speed to the speed limit.\n"
      ]
    },
    {
      "cell_type": "code",
      "metadata": {
        "id": "5riUZvsM2euV",
        "colab_type": "code",
        "colab": {}
      },
      "source": [
        "# Speed Limit Example\n",
        "\n",
        "speed_limit = 65\n",
        "my_speed = 32\n",
        "\n",
        "my_speed == speed_limit # False\n",
        "my_speed != speed_limit # True\n",
        "\n",
        "\n",
        "# Less Than <\n",
        "under_speed_limit = my_speed < speed_limit # True\n",
        "\n",
        "\n",
        "# Less Than or Equal To <=\n",
        "at_or_under_speed_limit = my_speed <= speed_limit # True\n",
        "\n",
        "\n",
        "# Greater Than >\n",
        "above_speed_limit = my_speed > speed_limit # False\n",
        "\n",
        "\n",
        "# Greater Than or Equal To >=\n",
        "at_or_under_speed_limit = my_speed > speed_limit # False\n",
        "\n",
        "\n",
        "# Equals ==\n",
        "exactly_at_speed_limit = my_speed == speed_limit # False\n",
        "exactly_at_speed_limit = my_speed is speed_limit # also False\n",
        "\n",
        "# Not Equal To !=\n",
        "not_exactly_at_speed_limit = my_speed != speed_limit # True\n",
        "not_exactly_at_speed_limit = my_speed is not speed_limit # also True"
      ],
      "execution_count": 0,
      "outputs": []
    },
    {
      "cell_type": "markdown",
      "metadata": {
        "id": "F5NPsCpS2euX",
        "colab_type": "text"
      },
      "source": [
        "\n",
        "### Chaining Comparison Operators\n",
        "\n",
        "When you chain comparison operators, it's simply a way of succintly checking whether **BOTH** comparison expressions are `True` or `False`. \n",
        "\n",
        "Python checks each one separately from left to right. Both comparisons must be `True` for the result to evaluate to `True`. Even if only one of them is `False`, the whole expression will evaluate to `False`. Thus, if any comparisons are `False`, it stops before evaluating the rest of them. \n",
        "\n",
        "Let's see this in action...\n"
      ]
    },
    {
      "cell_type": "code",
      "metadata": {
        "id": "XAtXsjbG2euY",
        "colab_type": "code",
        "colab": {}
      },
      "source": [
        "x = 2\n",
        "\n",
        "# A)\n",
        "1 < x < 3 # True\n",
        "\n",
        "# B)\n",
        "10 < x < 20 # False\n",
        "\n",
        "# C)\n",
        "3 > x <= 2 # True\n",
        "\n",
        "# D)\n",
        "2 == x < 4 # True"
      ],
      "execution_count": 0,
      "outputs": []
    },
    {
      "cell_type": "markdown",
      "metadata": {
        "id": "02Z2ex0O2eub",
        "colab_type": "text"
      },
      "source": [
        "\n",
        "For the above examples, we check whether...\n",
        "\n",
        "* A) 1 is less than `x` **AND** `x` is less than 3.\n",
        "* B) 10 is less than `x` (*it is not) and we stop right there*\n",
        "* C) 3 is greater than `x` **AND** `x` is less than or equal to 2.\n",
        "* D) `x` is equal to 2 **AND** `x` is less than 4.\n",
        "\n",
        "## Boolean Logical Operators\n",
        "\n",
        "**Logical operators** ALSO make a statement about the relative value of two items and return a boolean based on whether that statement is True or False. The logical operators include `not`, `or`, and `and`.\n",
        "\n",
        "**The `not` operator** simply negates. The statement evaluates to `True` if item is False and vice versa. For instance,\n"
      ]
    },
    {
      "cell_type": "code",
      "metadata": {
        "id": "H6LYLZ6N2eub",
        "colab_type": "code",
        "colab": {}
      },
      "source": [
        "sky_is_blue = True\n",
        "result = not sky_is_blue # False\n",
        "\n",
        "\n",
        "sky_is_green = False\n",
        "result = not sky_is_green # True"
      ],
      "execution_count": 0,
      "outputs": []
    },
    {
      "cell_type": "markdown",
      "metadata": {
        "id": "A-XM1msO2euf",
        "colab_type": "text"
      },
      "source": [
        "\n",
        "A statement with **the `or` operator** evaluates to `True` if **AT LEASE ONE** of the items are `True.` For instance, \n"
      ]
    },
    {
      "cell_type": "code",
      "metadata": {
        "id": "DwARBXyr2eug",
        "colab_type": "code",
        "outputId": "184b6467-0fe6-4912-916e-b84a9b1ce813",
        "colab": {
          "base_uri": "https://localhost:8080/",
          "height": 34
        }
      },
      "source": [
        "layla_is_maine_coon = True\n",
        "layla_is_black = False\n",
        "layla_is_female = True\n",
        "\n",
        "result = layla_is_maine_coon or layla_is_black or layla_is_female # True\n",
        "print(result)"
      ],
      "execution_count": 0,
      "outputs": [
        {
          "output_type": "stream",
          "text": [
            "True\n"
          ],
          "name": "stdout"
        }
      ]
    },
    {
      "cell_type": "markdown",
      "metadata": {
        "id": "Chv8Wu5j2euj",
        "colab_type": "text"
      },
      "source": [
        "\n",
        "Because at least one of the items above is `True`, the full expression will evaluate to `True`.\n",
        "\n",
        "**The `and` operator** evaluates to `True` if **ALL** of the operands are true.\n"
      ]
    },
    {
      "cell_type": "code",
      "metadata": {
        "id": "funw75zg2euj",
        "colab_type": "code",
        "colab": {}
      },
      "source": [
        "layla_is_maine_coon = True\n",
        "layla_is_white = True\n",
        "layla_is_orange = True\n",
        "layla_is_black = False\n",
        "\n",
        "result1 = layla_is_maine_coon and layla_is_orange and layla_is_female # True\n",
        "\n",
        "result2 = layla_is_maine_coon and layla_is_black and layla_is_female # False"
      ],
      "execution_count": 0,
      "outputs": []
    },
    {
      "cell_type": "markdown",
      "metadata": {
        "id": "jo9D2yiv2eum",
        "colab_type": "text"
      },
      "source": [
        "\n",
        "`result1` above will be true since **ALL** of the items are `True`. Conversely, `result2` above will be `False` because **at least one** of the items is `False`.\n",
        "\n",
        "### Chaining Logical Operators\n",
        "\n",
        "When you chain logical operators, it's simply a way of succintly checking whether **ALL** logical expressions are `True`. When you combine chains of logical operators, you have to pay close attention to the **order of operations**: `not` then `and` then `or`.\n",
        "\n",
        "Let's break down a few examples:\n",
        "\n",
        "A) **and THEN or**\n"
      ]
    },
    {
      "cell_type": "code",
      "metadata": {
        "id": "toUbqgkm2eun",
        "colab_type": "code",
        "colab": {}
      },
      "source": [
        "layla_is_white = True\n",
        "layla_is_orange = True\n",
        "layla_is_black = False\n",
        "\n",
        "\n",
        "result1 = (layla_is_white and layla_is_orange) or layla_is_black\n",
        "# (True and True) or False evals to...\n",
        "### True or False evals to evals to...\n",
        "### True\n",
        "\n",
        "result2 = layla_is_white or (layla_is_black and layla_is_orange)\n",
        "# True or (False and True) evals to...\n",
        "### True or False evals to...\n",
        "### True\n",
        "\n",
        "result3 = (layla_is_white and (not layla_is_black)) or layla_is_orange\n",
        "# (True and (True)) or True\n",
        "# layla_is_white and (True) or layla_is_orange\n",
        "# True and True or True\n",
        "### True and True evals to True\n",
        "### True or True evals to True\n",
        "\n",
        "result4 = layla_is_white and layla_is_black or not layla_is_orange\n",
        "# True and False or not True\n",
        "# True and False or False\n",
        "# False\n",
        "# STOP! No need to eval rest\n",
        "\n",
        "result5 = layla_is_white or layla_is_black and not layla_is_orange\n",
        "# True or False and not True\n",
        "# True or False and False\n",
        "# True or False\n",
        "# True\n",
        "\n",
        "result6 = layla_is_white and layla_is_black and not layla_is_orange\n",
        "# True and False and not True\n",
        "# True and False and False\n",
        "# True and False\n",
        "# False"
      ],
      "execution_count": 0,
      "outputs": []
    },
    {
      "cell_type": "markdown",
      "metadata": {
        "id": "xImTL7Bw2eup",
        "colab_type": "text"
      },
      "source": [
        "\n",
        "Summarized, the results above are:\n",
        "\n",
        "* results1 = `True`\n",
        "* results2 = `True`\n",
        "* results3 = `True`\n",
        "* results4 = `False`\n",
        "* results5 = `True`\n",
        "* results6 = `False`\n",
        "\n",
        "## Boolean Membership Operators\n",
        "\n",
        "Membership operators are: `in` and `not in`. They are used to determine if a value is in a sequence, for instance:\n"
      ]
    },
    {
      "cell_type": "code",
      "metadata": {
        "id": "KchcrYO02euq",
        "colab_type": "code",
        "colab": {}
      },
      "source": [
        "line = 'a b c d e f g'\n",
        "\n",
        "result = 'a' in line # True\n",
        "result = 'z' in line # False\n",
        "result = 'k' not in line # True\n",
        "result = 'a' not in line # False"
      ],
      "execution_count": 0,
      "outputs": []
    },
    {
      "cell_type": "markdown",
      "metadata": {
        "id": "rF4VQXfH2eus",
        "colab_type": "text"
      },
      "source": [
        "\n",
        "### 🏋️‍♀️ **EXERCISES** 🏋️‍♀️ \n",
        "\n",
        "Try out the \"Weather\" PSET in your copy of `conditionals_psets.ipynb` in Google Drive.\n",
        "\n",
        "## Conditional Statements\n",
        "\n",
        "A conditional statement will attempt to evaluate an expression down to a boolean value - either `True` or `False`. Based on the boolean evaluation, the program will then execute or skip a block of code.\n",
        "\n",
        "So for instance:\n"
      ]
    },
    {
      "cell_type": "code",
      "metadata": {
        "id": "ZjsQnYKl2eut",
        "colab_type": "code",
        "colab": {}
      },
      "source": [
        "if True:\n",
        "\tprint(\"this will always run!\")\n",
        "\n",
        "if False:\n",
        "\tprint(\"this will NEVER run!\")"
      ],
      "execution_count": 0,
      "outputs": []
    },
    {
      "cell_type": "markdown",
      "metadata": {
        "id": "XQzFGiQn2euv",
        "colab_type": "text"
      },
      "source": [
        "\n",
        "However, since we know booleans to be data types, *any* of the operators discussed above can *also* be used:\n"
      ]
    },
    {
      "cell_type": "code",
      "metadata": {
        "id": "ytgULfNL2euv",
        "colab_type": "code",
        "outputId": "0d0208c6-4113-49f8-b5e4-fbac28d0f74f",
        "colab": {
          "base_uri": "https://localhost:8080/",
          "height": 34
        }
      },
      "source": [
        "temp = input(\"Input current temperature: \")\n",
        "\n",
        "try:\n",
        "\tif int(temp) < 65:\n",
        "\t\tprint(\"wear a jacket!\")\n",
        "except Exception as e:\n",
        "\tprint(f\"Something went wrong! {e}\")"
      ],
      "execution_count": 0,
      "outputs": [
        {
          "output_type": "stream",
          "text": [
            "Input current temperature: 68\n"
          ],
          "name": "stdout"
        }
      ]
    },
    {
      "cell_type": "code",
      "metadata": {
        "id": "-P5jIWT8CE6h",
        "colab_type": "code",
        "outputId": "13fcf055-93b0-4a92-c781-833617aa2e4a",
        "colab": {
          "base_uri": "https://localhost:8080/",
          "height": 68
        }
      },
      "source": [
        "my_test = input(\"what am i?\")\n",
        "print(f\"my test is: {my_test}\")\n",
        "print(f\"my test TYPE is: {type(my_test)}\")"
      ],
      "execution_count": 0,
      "outputs": [
        {
          "output_type": "stream",
          "text": [
            "what am i?1\n",
            "my test is: 1\n",
            "my test TYPE is: <class 'str'>\n"
          ],
          "name": "stdout"
        }
      ]
    },
    {
      "cell_type": "code",
      "metadata": {
        "id": "zM_eZa1oCd0I",
        "colab_type": "code",
        "outputId": "398045cc-a710-4cc0-d89d-383b1589ca65",
        "colab": {
          "base_uri": "https://localhost:8080/",
          "height": 68
        }
      },
      "source": [
        "your_age = float(input(\"how old are you? \"))\n",
        "your_age = int(your_age)\n",
        "\n",
        "print(your_age)\n",
        "print(type(your_age))\n"
      ],
      "execution_count": 0,
      "outputs": [
        {
          "output_type": "stream",
          "text": [
            "how old are you? 29\n",
            "29.0\n",
            "<class 'float'>\n"
          ],
          "name": "stdout"
        }
      ]
    },
    {
      "cell_type": "code",
      "metadata": {
        "id": "2pMSncQlDlOM",
        "colab_type": "code",
        "outputId": "cbec9ff2-c204-4da1-f580-5fbb6af658d6",
        "colab": {
          "base_uri": "https://localhost:8080/",
          "height": 68
        }
      },
      "source": [
        "# def validate_input(value):\n",
        "#   try:\n",
        "#     return int(value)\n",
        "#   except Exception as e:\n",
        "#     pass\n",
        "  \n",
        "#   try:\n",
        "#     return int(float(value))\n",
        "#   except Exception as e:\n",
        "#     print('failed! womp womp')\n",
        "\n",
        "age = input('your age?')\n",
        "print(validate_input(age))"
      ],
      "execution_count": 0,
      "outputs": [
        {
          "output_type": "stream",
          "text": [
            "your age?asdfasdfa\n",
            "failed! womp womp\n",
            "None\n"
          ],
          "name": "stdout"
        }
      ]
    },
    {
      "cell_type": "markdown",
      "metadata": {
        "id": "YGVS552y2euy",
        "colab_type": "text"
      },
      "source": [
        "\n",
        "The code above will only run if `temp` is less than 65.\n",
        "\n",
        "We can also do something like:\n"
      ]
    },
    {
      "cell_type": "code",
      "metadata": {
        "id": "t4VDbxsm2euz",
        "colab_type": "code",
        "outputId": "1ec6a95e-901d-432d-d5d5-475891fa70b8",
        "colab": {
          "base_uri": "https://localhost:8080/",
          "height": 51
        }
      },
      "source": [
        "temp = int(input('temp '))\n",
        "is_it_raining = bool(input('is it raining? '))\n",
        "\n",
        "if is_it_raining and temp < 65:\n",
        "\tprint('wear a jacket and bring an umbrella!')"
      ],
      "execution_count": 0,
      "outputs": [
        {
          "output_type": "stream",
          "text": [
            "temp 32\n",
            "is it raining? \n"
          ],
          "name": "stdout"
        }
      ]
    },
    {
      "cell_type": "code",
      "metadata": {
        "id": "DAxJuopxE579",
        "colab_type": "code",
        "outputId": "c147ca0c-276f-4987-aa90-c0f8d0e574b7",
        "colab": {
          "base_uri": "https://localhost:8080/",
          "height": 34
        }
      },
      "source": [
        "str_ = \"\"\n",
        "\n",
        "print(bool(str_))"
      ],
      "execution_count": 0,
      "outputs": [
        {
          "output_type": "stream",
          "text": [
            "False\n"
          ],
          "name": "stdout"
        }
      ]
    },
    {
      "cell_type": "code",
      "metadata": {
        "id": "-i-hVTLpFNKv",
        "colab_type": "code",
        "colab": {}
      },
      "source": [
        "# if user inputs\n",
        "# yes\n",
        "# Yes\n",
        "# Y\n",
        "# YES\n",
        "# YeS\n",
        "# T\n",
        "# True\n",
        "# TRUE\n",
        "\n",
        "userinput = input('Is it raining? ')\n",
        "\n",
        "if userinput == \"yes\" or userinput == 'Yes' or userinput == \"YeS\":\n",
        "  is_it_raining = True\n",
        "else:\n",
        "  is_it_raining = False"
      ],
      "execution_count": 0,
      "outputs": []
    },
    {
      "cell_type": "code",
      "metadata": {
        "id": "9upCkK6MF968",
        "colab_type": "code",
        "outputId": "a08d9b4a-0aa6-4eb8-b2c1-58e0832043f0",
        "colab": {
          "base_uri": "https://localhost:8080/",
          "height": 51
        }
      },
      "source": [
        "userinput = input('Is it raining? ')\n",
        "\n",
        "possibilities = \"yes Y y YES yES\"\n",
        "\n",
        "if userinput in possibilities:\n",
        "  is_it_raining = True\n",
        "else:\n",
        "  is_it_raining = False\n",
        "\n",
        "print(is_it_raining)"
      ],
      "execution_count": 0,
      "outputs": [
        {
          "output_type": "stream",
          "text": [
            "Is it raining? y YES\n",
            "True\n"
          ],
          "name": "stdout"
        }
      ]
    },
    {
      "cell_type": "code",
      "metadata": {
        "id": "SvZWYfJgGdci",
        "colab_type": "code",
        "colab": {}
      },
      "source": [
        "userinput = input('Is it raining? ')\n",
        "\n",
        "userinput_sanitized = userinput.lower().strip()\n",
        "\n",
        "if userinput_sanitized == \"yes\" or userinput_sanitized == \"y\":\n",
        "  is_it_raining = True\n",
        "\n",
        "# DONT TRY THIS AT HOME\n",
        "# userinput_sanitized == \"yes\" or \"y\""
      ],
      "execution_count": 0,
      "outputs": []
    },
    {
      "cell_type": "markdown",
      "metadata": {
        "id": "D6mZXyRQ2eu2",
        "colab_type": "text"
      },
      "source": [
        "\n",
        "In the example above, we make use of comparison operators *and* logical operators in a compound statement.\n",
        "\n",
        "### `else`s and `elif`s\n",
        "\n",
        "If we have a condition that can only go two ways (i.e. it will only be true or false), we can leverage the `else` statement:\n"
      ]
    },
    {
      "cell_type": "code",
      "metadata": {
        "id": "003JKurR2eu3",
        "colab_type": "code",
        "colab": {}
      },
      "source": [
        "temp = 43\n",
        "\n",
        "if temp < 65:\n",
        "\tprint('wear a coat!')\n",
        "else:\n",
        "\tprint('you will not need a coat!')"
      ],
      "execution_count": 0,
      "outputs": []
    },
    {
      "cell_type": "markdown",
      "metadata": {
        "id": "L6gMF5g12eu6",
        "colab_type": "text"
      },
      "source": [
        "\n",
        "But what if we wanted support for multiple possibilities? That's where the `elif` statement comes in:\n"
      ]
    },
    {
      "cell_type": "code",
      "metadata": {
        "id": "e3274Phk2eu7",
        "colab_type": "code",
        "colab": {}
      },
      "source": [
        "temp = 43\n",
        "\n",
        "if temp < 30:\n",
        "\tprint('wear a heavy jacket')\n",
        "elif temp < 50:\n",
        "\tprint('wear a light jacket')\n",
        "elif temp < 60:\n",
        "\tprint('wear a sweater')\n",
        "else:\n",
        "\tprint('you do not need any layers!')\n",
        "\n"
      ],
      "execution_count": 0,
      "outputs": []
    },
    {
      "cell_type": "code",
      "metadata": {
        "id": "0SrpvX_KJovC",
        "colab_type": "code",
        "outputId": "3ca95459-e575-4d35-aa11-7e154f419e81",
        "colab": {
          "base_uri": "https://localhost:8080/",
          "height": 34
        }
      },
      "source": [
        "from random import randint\n",
        "\n",
        "outcome = randint(1,2)\n",
        "\n",
        "if outcome is 1:\n",
        "  print('heads')\n",
        "else:\n",
        "  print('tails')"
      ],
      "execution_count": 0,
      "outputs": [
        {
          "output_type": "stream",
          "text": [
            "heads\n"
          ],
          "name": "stdout"
        }
      ]
    },
    {
      "cell_type": "code",
      "metadata": {
        "id": "KGkN7ATNJ0jP",
        "colab_type": "code",
        "outputId": "7d038b7e-2981-4dfe-90be-7b1282643a20",
        "colab": {
          "base_uri": "https://localhost:8080/",
          "height": 51
        }
      },
      "source": [
        "outcome1 = randint(1,6)\n",
        "outcome2 = randint(1,6)\n",
        "\n",
        "if outcome1 == outcome2:\n",
        "  print('rolling again!')\n",
        "  outcome1 = randint(1,6)\n",
        "  outcome2 = randint(1,6)\n",
        "  if outcome1 == outcome2:\n",
        "    print('rolling again take 2!')\n",
        "    outcome1 = randint(1,6)\n",
        "    outcome2 = randint(1,6)\n",
        "    if outcome1 == outcome2:\n",
        "      print('go to jail!!')\n",
        "  else:\n",
        "    print(f\"die1: {outcome1}, die2: {outcome2}\")\n",
        "else:\n",
        "  print(f\"die1: {outcome1}, die2: {outcome2}\")\n",
        "\n",
        "\n"
      ],
      "execution_count": 0,
      "outputs": [
        {
          "output_type": "stream",
          "text": [
            "rolling again!\n",
            "die1: 4, die2: 3\n"
          ],
          "name": "stdout"
        }
      ]
    },
    {
      "cell_type": "code",
      "metadata": {
        "id": "3gLHMqwSK5tH",
        "colab_type": "code",
        "outputId": "97e0369a-6402-4587-8a08-5e31f56be9c4",
        "colab": {
          "base_uri": "https://localhost:8080/",
          "height": 34
        }
      },
      "source": [
        "def roll_die():\n",
        "  return randint(1,6), randint(1,6)\n",
        "\n",
        "for i in range(0,4):\n",
        "  d1, d2 = roll_die()\n",
        "  if d1 == d2 and i == 4:\n",
        "    print('go directly to jail')\n",
        "  elif d1 == d2:\n",
        "    continue\n",
        "  else:\n",
        "    print(f\"{d1}, {d2}\")\n",
        "    break\n",
        "\n"
      ],
      "execution_count": 0,
      "outputs": [
        {
          "output_type": "stream",
          "text": [
            "2, 5\n"
          ],
          "name": "stdout"
        }
      ]
    },
    {
      "cell_type": "code",
      "metadata": {
        "id": "jVGvNx2eMUtt",
        "colab_type": "code",
        "outputId": "f5a0acc2-ed99-4f3f-fe86-4eda09ed9994",
        "colab": {
          "base_uri": "https://localhost:8080/",
          "height": 634
        }
      },
      "source": [
        "i = -1\n",
        "\n",
        "while i != 3:\n",
        "  i = randint(1,10)\n",
        "  print(i)"
      ],
      "execution_count": 0,
      "outputs": [
        {
          "output_type": "stream",
          "text": [
            "8\n",
            "7\n",
            "6\n",
            "10\n",
            "6\n",
            "7\n",
            "9\n",
            "8\n",
            "4\n",
            "9\n",
            "4\n",
            "10\n",
            "5\n",
            "9\n",
            "2\n",
            "4\n",
            "8\n",
            "10\n",
            "2\n",
            "10\n",
            "8\n",
            "1\n",
            "8\n",
            "6\n",
            "7\n",
            "9\n",
            "5\n",
            "7\n",
            "8\n",
            "9\n",
            "8\n",
            "10\n",
            "8\n",
            "4\n",
            "8\n",
            "3\n"
          ],
          "name": "stdout"
        }
      ]
    },
    {
      "cell_type": "markdown",
      "metadata": {
        "id": "9O6ARAll2eu9",
        "colab_type": "text"
      },
      "source": [
        "\n",
        "In the example above, we print one of 4 possibilities - the elif allows us to go from 2 potential conditions to N potential conditions.\n",
        "\n",
        "### 🏋️‍♀️ **EXERCISES** 🏋️‍♀️ \n",
        "\n",
        "Complete the \"Logic\" PSET in your copy of `conditionals_psets.ipynb` in Google Drive.\n",
        "\n",
        "### BONUS TOPIC: Random Numbers\n",
        "\n",
        "If you want to generate random numbers in your programs, you can import Python's `random` module.\n",
        "\n",
        "The example below generates a random number from 1 to 100:\n"
      ]
    },
    {
      "cell_type": "code",
      "metadata": {
        "id": "53RGgKZy2eu9",
        "colab_type": "code",
        "colab": {}
      },
      "source": [
        "import random\n",
        "randn = random.randint(1, 100)"
      ],
      "execution_count": 0,
      "outputs": []
    },
    {
      "cell_type": "markdown",
      "metadata": {
        "id": "IWDAd94x2evA",
        "colab_type": "text"
      },
      "source": [
        "\n",
        "Notice how you have to specify that randint function came from the random package by writing random.randint().\n",
        "\n",
        "**-- OR --**\n",
        "\n",
        "Alternatively, to avoid having to reference the `random` package every time you call the `randint()` function, you can import `randint()` specifically like this:\n"
      ]
    },
    {
      "cell_type": "code",
      "metadata": {
        "id": "ZqYCiirv2evB",
        "colab_type": "code",
        "colab": {}
      },
      "source": [
        "from random import randint\n",
        "randn = randint(1, 100)"
      ],
      "execution_count": 0,
      "outputs": []
    },
    {
      "cell_type": "markdown",
      "metadata": {
        "id": "NdxBSzOU2evE",
        "colab_type": "text"
      },
      "source": [
        "\n",
        "### Practice together!\n",
        "\n",
        "Randomly generate either a `0` or a `1` to represent the outcome of a coin flip. Let `0` represent 'Heads' and `1` represent 'Tails'. Print the appropriate winning outcome.\n"
      ]
    },
    {
      "cell_type": "code",
      "metadata": {
        "id": "fftmXb4e2evF",
        "colab_type": "code",
        "colab": {}
      },
      "source": [
        "from random import randint\n",
        "\n",
        "flip = randint(0, 1)\n",
        "print(flip)\n",
        "\n",
        "if flip == 0:\n",
        "\tprint('Heads wins!')\n",
        "elif flip == 1:\n",
        "\tprint('Tails wins!')\n",
        "else:\n",
        "\tprint('I can\\'t believe it landed on its edge!')"
      ],
      "execution_count": 0,
      "outputs": []
    },
    {
      "cell_type": "markdown",
      "metadata": {
        "id": "_RJ3mFOY2evH",
        "colab_type": "text"
      },
      "source": [
        "\n",
        "### 🏋️‍♀️ **EXERCISES** 🏋️‍♀️ \n",
        "\n",
        "Now try the \"Random Numbers\" PSET and the \"RPS\" PSET in your copy of `conditionals_psets.ipynb` in Google Drive."
      ]
    }
  ]
}